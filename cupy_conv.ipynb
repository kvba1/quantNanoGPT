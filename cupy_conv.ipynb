{
 "cells": [
  {
   "cell_type": "code",
   "execution_count": null,
   "id": "1559af91",
   "metadata": {},
   "outputs": [],
   "source": [
    "import scipy.sparse as sp\n",
    "import torch\n",
    "\n",
    "def torch_linear_to_sparse(tensor, blocksize=(32, 32)):\n",
    "    if not isinstance(tensor, torch.Tensor):\n",
    "        raise TypeError(\"Input must be a PyTorch tensor.\")\n",
    "    if tensor.dim() != 2:\n",
    "        raise ValueError(\"Input tensor must be 2D.\")\n",
    "    \n",
    "    weight_array = tensor.detach().cpu().numpy()    \n",
    "    sparse_matrix = sp.csr_matrix(weight_array)\n",
    "    \n",
    "    return sparse_matrix"
   ]
  },
  {
   "cell_type": "code",
   "execution_count": null,
   "id": "095d87b6",
   "metadata": {},
   "outputs": [
    {
     "name": "stdout",
     "output_type": "stream",
     "text": [
      "number of parameters: 10.67M\n",
      "Non-zero blocks: 79 / 576 (13.72% density)\n"
     ]
    }
   ],
   "source": [
    "from model import GPT, GPTConfig, QLinearTile2D\n",
    "\n",
    "def load_model_from_checkpoint(ckpt_path):\n",
    "    if not isinstance(ckpt_path, str):\n",
    "        raise TypeError(\"Checkpoint path must be a string.\")\n",
    "    \n",
    "    checkpoint = torch.load(ckpt_path, map_location='cpu')\n",
    "    gptconf = GPTConfig(**checkpoint['model_args'])\n",
    "    model = GPT(gptconf)\n",
    "    state_dict = checkpoint['model']\n",
    "    unwanted_prefix = '_orig_mod.'\n",
    "    for k,v in list(state_dict.items()):\n",
    "        if k.startswith(unwanted_prefix):\n",
    "            state_dict[k[len(unwanted_prefix):]] = state_dict.pop(k)\n",
    "            \n",
    "    model.load_state_dict(state_dict)\n",
    "    return model\n",
    "\n",
    "model = load_model_from_checkpoint('./quantized_models/ckpt_tiled_quantized.pt')\n",
    "linear_weights = model.transformer.h[2].mlp.c_fc.weight\n",
    "sparse_weights = torch_linear_to_sparse(linear_weights, blocksize=(32, 32))"
   ]
  },
  {
   "cell_type": "code",
   "execution_count": null,
   "id": "92805bb0",
   "metadata": {},
   "outputs": [
    {
     "ename": "ModuleNotFoundError",
     "evalue": "No module named 'cupy'",
     "output_type": "error",
     "traceback": [
      "\u001b[0;31m---------------------------------------------------------------------------\u001b[0m",
      "\u001b[0;31mModuleNotFoundError\u001b[0m                       Traceback (most recent call last)",
      "Cell \u001b[0;32mIn[26], line 1\u001b[0m\n\u001b[0;32m----> 1\u001b[0m \u001b[38;5;28;01mimport\u001b[39;00m \u001b[38;5;21;01mcupy\u001b[39;00m \u001b[38;5;28;01mas\u001b[39;00m \u001b[38;5;21;01mcp\u001b[39;00m\n\u001b[1;32m      2\u001b[0m \u001b[38;5;28;01mfrom\u001b[39;00m \u001b[38;5;21;01mcupyx\u001b[39;00m\u001b[38;5;21;01m.\u001b[39;00m\u001b[38;5;21;01mscipy\u001b[39;00m\u001b[38;5;21;01m.\u001b[39;00m\u001b[38;5;21;01msparse\u001b[39;00m \u001b[38;5;28;01mimport\u001b[39;00m bsr_matrix\n\u001b[1;32m      4\u001b[0m \u001b[38;5;66;03m# Dane z scipy\u001b[39;00m\n",
      "\u001b[0;31mModuleNotFoundError\u001b[0m: No module named 'cupy'"
     ]
    }
   ],
   "source": [
    "import cupy as cp\n",
    "from cupyx.scipy.sparse import csr_matrix\n",
    "\n",
    "# Dane z scipy\n",
    "data = cp.asarray(sparse_weights.data)\n",
    "indices = cp.asarray(sparse_weights.indices)\n",
    "indptr = cp.asarray(sparse_weights.indptr)\n",
    "\n",
    "W_gpu = csr_matrix((data, indices, indptr), shape=sparse_weights.shape)\n",
    "\n",
    "# Przykład wektora we\n",
    "x = cp.random.randn(sparse_weights.shape[1], 1, dtype=cp.float32)\n",
    "\n",
    "# Inferencja\n",
    "y = W_gpu @ x\n"
   ]
  }
 ],
 "metadata": {
  "kernelspec": {
   "display_name": "torch",
   "language": "python",
   "name": "python3"
  },
  "language_info": {
   "codemirror_mode": {
    "name": "ipython",
    "version": 3
   },
   "file_extension": ".py",
   "mimetype": "text/x-python",
   "name": "python",
   "nbconvert_exporter": "python",
   "pygments_lexer": "ipython3",
   "version": "3.11.8"
  }
 },
 "nbformat": 4,
 "nbformat_minor": 5
}
