{
 "cells": [
  {
   "cell_type": "code",
   "execution_count": 2,
   "metadata": {},
   "outputs": [],
   "source": [
    "import torch\n",
    "from model import GPTConfig, GPT, QLinearPerChannel, QLinearTile2D"
   ]
  },
  {
   "cell_type": "code",
   "execution_count": 3,
   "metadata": {},
   "outputs": [
    {
     "name": "stdout",
     "output_type": "stream",
     "text": [
      "number of parameters: 10.67M\n"
     ]
    }
   ],
   "source": [
    "ckpt_path = 'out-shakespeare-char/ckpt.pt'\n",
    "checkpoint = torch.load(ckpt_path, map_location='cpu')\n",
    "\n",
    "model_args = checkpoint['model_args']\n",
    "\n",
    "config = GPTConfig(**model_args)\n",
    "model = GPT(config)"
   ]
  },
  {
   "cell_type": "code",
   "execution_count": 4,
   "metadata": {},
   "outputs": [
    {
     "data": {
      "text/plain": [
       "<All keys matched successfully>"
      ]
     },
     "execution_count": 4,
     "metadata": {},
     "output_type": "execute_result"
    }
   ],
   "source": [
    "state_dict = checkpoint['model']\n",
    "unwanted_prefix = '_orig_mod.'\n",
    "for k in list(state_dict.keys()):\n",
    "    if k.startswith(unwanted_prefix):\n",
    "        state_dict[k[len(unwanted_prefix):]] = state_dict.pop(k)\n",
    "model.load_state_dict(state_dict)"
   ]
  },
  {
   "cell_type": "code",
   "execution_count": null,
   "metadata": {},
   "outputs": [
    {
     "ename": "ZeroDivisionError",
     "evalue": "division by zero",
     "output_type": "error",
     "traceback": [
      "\u001b[1;31m---------------------------------------------------------------------------\u001b[0m",
      "\u001b[1;31mZeroDivisionError\u001b[0m                         Traceback (most recent call last)",
      "Cell \u001b[1;32mIn[5], line 18\u001b[0m\n\u001b[0;32m     15\u001b[0m         total_below_eps \u001b[38;5;241m+\u001b[39m\u001b[38;5;241m=\u001b[39m (b \u001b[38;5;241m<\u001b[39m eps)\u001b[38;5;241m.\u001b[39msum()\u001b[38;5;241m.\u001b[39mitem()\n\u001b[0;32m     16\u001b[0m         total_b_entries \u001b[38;5;241m+\u001b[39m\u001b[38;5;241m=\u001b[39m b\u001b[38;5;241m.\u001b[39mnumel()\n\u001b[1;32m---> 18\u001b[0m sparsity_weights \u001b[38;5;241m=\u001b[39m \u001b[43mtotal_zeros_weight\u001b[49m\u001b[43m \u001b[49m\u001b[38;5;241;43m/\u001b[39;49m\u001b[43m \u001b[49m\u001b[43mtotal_params_weight\u001b[49m\n\u001b[0;32m     19\u001b[0m sparsity_b \u001b[38;5;241m=\u001b[39m total_below_eps \u001b[38;5;241m/\u001b[39m total_b_entries\n\u001b[0;32m     22\u001b[0m \u001b[38;5;28mprint\u001b[39m(\u001b[38;5;124mf\u001b[39m\u001b[38;5;124m\"\u001b[39m\u001b[38;5;124mTotal zero weights: \u001b[39m\u001b[38;5;132;01m{\u001b[39;00mtotal_zeros_weight\u001b[38;5;132;01m}\u001b[39;00m\u001b[38;5;124m / \u001b[39m\u001b[38;5;132;01m{\u001b[39;00mtotal_params_weight\u001b[38;5;132;01m}\u001b[39;00m\u001b[38;5;124m \u001b[39m\u001b[38;5;124m\"\u001b[39m\n\u001b[0;32m     23\u001b[0m       \u001b[38;5;124mf\u001b[39m\u001b[38;5;124m\"\u001b[39m\u001b[38;5;124m(\u001b[39m\u001b[38;5;132;01m{\u001b[39;00msparsity_weights\u001b[38;5;132;01m:\u001b[39;00m\u001b[38;5;124m.4f\u001b[39m\u001b[38;5;132;01m}\u001b[39;00m\u001b[38;5;124m sparsity)\u001b[39m\u001b[38;5;124m\"\u001b[39m)\n",
      "\u001b[1;31mZeroDivisionError\u001b[0m: division by zero"
     ]
    }
   ],
   "source": [
    "total_zeros_weight = 0\n",
    "total_params_weight = 0\n",
    "\n",
    "total_below_eps = 0\n",
    "total_b_entries = 0\n",
    "eps = 1e-6\n",
    "\n",
    "for module in model.modules():\n",
    "    if isinstance(module, (QLinearPerChannel, QLinearTile2D)):\n",
    "        weight = module.weight.detach()\n",
    "        total_zeros_weight += (weight.abs() < eps).sum().item()\n",
    "        total_params_weight += weight.numel()\n",
    "\n",
    "        b = module.b.detach()\n",
    "        total_below_eps += (b < eps).sum().item()\n",
    "        total_b_entries += b.numel()\n",
    "\n",
    "sparsity_weights = total_zeros_weight / total_params_weight\n",
    "sparsity_b = total_below_eps / total_b_entries\n",
    "\n",
    "\n",
    "print(f\"Total zero weights: {total_zeros_weight} / {total_params_weight} \"\n",
    "      f\"({sparsity_weights:.4f} sparsity)\")\n",
    "\n",
    "print(f\"Total b < {eps}: {total_below_eps} / {total_b_entries} \"\n",
    "      f\"({sparsity_b:.4f} b sparsity)\")"
   ]
  }
 ],
 "metadata": {
  "kernelspec": {
   "display_name": "torch",
   "language": "python",
   "name": "python3"
  },
  "language_info": {
   "codemirror_mode": {
    "name": "ipython",
    "version": 3
   },
   "file_extension": ".py",
   "mimetype": "text/x-python",
   "name": "python",
   "nbconvert_exporter": "python",
   "pygments_lexer": "ipython3",
   "version": "3.11.8"
  }
 },
 "nbformat": 4,
 "nbformat_minor": 2
}
